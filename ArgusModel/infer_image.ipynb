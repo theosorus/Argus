{
 "cells": [
  {
   "cell_type": "code",
   "execution_count": 1,
   "id": "efd0b476",
   "metadata": {},
   "outputs": [],
   "source": [
    "from ultralytics import YOLO\n",
    "\n",
    "\n",
    "model = YOLO(\"yolov8n-military/weights/best.pt\")"
   ]
  },
  {
   "cell_type": "code",
   "execution_count": 2,
   "id": "e871dc95",
   "metadata": {},
   "outputs": [
    {
     "name": "stdout",
     "output_type": "stream",
     "text": [
      "\n",
      "image 1/1 c:\\Users\\tcastillo\\Documents\\ArgusModel\\data\\sample_game.png: 320x640 1 plane, 33.1ms\n",
      "Speed: 4.2ms preprocess, 33.1ms inference, 111.4ms postprocess per image at shape (1, 3, 320, 640)\n"
     ]
    }
   ],
   "source": [
    "# Faire l'inférence sur une image\n",
    "results = model(\"data/sample_game.png\")  # Remplace par le chemin de ton image\n",
    "\n",
    "# Afficher les résultats\n",
    "results[0].show()  # Affiche l'image avec les boîtes de détection"
   ]
  },
  {
   "cell_type": "markdown",
   "id": "febb93e4",
   "metadata": {},
   "source": [
    "## ONXX Model"
   ]
  },
  {
   "cell_type": "markdown",
   "id": "cf79c002",
   "metadata": {},
   "source": []
  },
  {
   "cell_type": "code",
   "execution_count": null,
   "id": "88dda9f3",
   "metadata": {},
   "outputs": [
    {
     "ename": "AttributeError",
     "evalue": "'numpy.ndarray' object has no attribute 'numpy'",
     "output_type": "error",
     "traceback": [
      "\u001b[31m---------------------------------------------------------------------------\u001b[39m",
      "\u001b[31mAttributeError\u001b[39m                            Traceback (most recent call last)",
      "\u001b[36mCell\u001b[39m\u001b[36m \u001b[39m\u001b[32mIn[3]\u001b[39m\u001b[32m, line 64\u001b[39m\n\u001b[32m     61\u001b[39m input_image, original_image = preprocess_image(image_path)\n\u001b[32m     63\u001b[39m \u001b[38;5;66;03m# Faire l'inférence\u001b[39;00m\n\u001b[32m---> \u001b[39m\u001b[32m64\u001b[39m outputs = sess.run(\u001b[38;5;28;01mNone\u001b[39;00m, {\u001b[33m\"\u001b[39m\u001b[33mimages\u001b[39m\u001b[33m\"\u001b[39m: \u001b[43minput_image\u001b[49m\u001b[43m.\u001b[49m\u001b[43mnumpy\u001b[49m()})\n\u001b[32m     66\u001b[39m \u001b[38;5;66;03m# Post-traiter les résultats\u001b[39;00m\n\u001b[32m     67\u001b[39m boxes, confidences, classes = postprocess(outputs, original_image.shape[:\u001b[32m2\u001b[39m])\n",
      "\u001b[31mAttributeError\u001b[39m: 'numpy.ndarray' object has no attribute 'numpy'"
     ]
    }
   ],
   "source": [
    "\"\"\"\n",
    "model.export(\n",
    "    format='onnx',\n",
    "    imgsz=640,  # ou 416 pour plus de performance\n",
    "    simplify=True,\n",
    "    opset=15,  # Sentis supporte jusqu'à opset 15\n",
    "    batch=1,  # Batch size fixe de 1\n",
    "    dynamic=False  # Pas de dimensions dynamiques\n",
    ")\n",
    "\"\"\"\n",
    "\n",
    "\n",
    "import cv2\n",
    "import numpy as np\n",
    "import onnxruntime as ort\n",
    "\n",
    "def preprocess_image(image_path, input_size=(640, 640)):\n",
    "    # Charger l'image\n",
    "    image = cv2.imread(image_path)\n",
    "    if image is None:\n",
    "        raise ValueError(\"Image non trouvée ou format non supporté\")\n",
    "\n",
    "    # Redimensionner et normaliser\n",
    "    image_rgb = cv2.cvtColor(image, cv2.COLOR_BGR2RGB)\n",
    "    resized = cv2.resize(image_rgb, input_size)\n",
    "    input_image = resized / 255.0  # Normalisation [0,1]\n",
    "    input_image = np.transpose(input_image, (2, 0, 1))  # HWC -> CHW\n",
    "    input_image = np.expand_dims(input_image, axis=0)  # Ajouter batch dimension\n",
    "\n",
    "    return input_image, image\n",
    "\n",
    "def postprocess(outputs, img_shape, conf_thres=0.5):\n",
    "    # Récupérer les détections\n",
    "    detections = outputs[0]\n",
    "    boxes = []\n",
    "    confidences = []\n",
    "    classes = [\"Plane\"]\n",
    "\n",
    "    # Filtrer les détections selon le seuil de confiance\n",
    "    for detection in detections:\n",
    "        scores = detection[4:]\n",
    "        class_id = np.argmax(scores)\n",
    "        confidence = scores[class_id]\n",
    "        if confidence > conf_thres:\n",
    "            # Récupérer les coordonnées de la boîte\n",
    "            xc, yc, w, h = detection[:4]\n",
    "            x1 = int((xc - w/2) * img_shape[1])\n",
    "            y1 = int((yc - h/2) * img_shape[0])\n",
    "            x2 = int((xc + w/2) * img_shape[1])\n",
    "            y2 = int((yc + h/2) * img_shape[0])\n",
    "            boxes.append([x1, y1, x2, y2])\n",
    "            confidences.append(float(confidence))\n",
    "            classes.append(int(class_id))\n",
    "\n",
    "    return boxes, confidences, classes\n",
    "\n",
    "def draw_boxes(image, boxes, confidences, classes):\n",
    "    for box, conf, cls in zip(boxes, confidences, classes):\n",
    "        x1, y1, x2, y2 = box\n",
    "        cv2.rectangle(image, (x1, y1), (x2, y2), (0, 255, 0), 2)\n",
    "        label = f\"Class {cls}: {conf:.2f}\"\n",
    "        cv2.putText(image, label, (x1, y1-10), cv2.FONT_HERSHEY_SIMPLEX, 0.5, (0, 255, 0), 2)\n",
    "    return image\n",
    "\n",
    "# Chemin vers ton modèle ONNX et ton image\n",
    "onnx_model_path = \"yolov8n-military/weights/best.onnx\"\n",
    "image_path = \"data/sample_game.png\"  # Remplace par le chemin de ton image\n",
    "\n",
    "# Charger le modèle ONNX\n",
    "sess = ort.InferenceSession(onnx_model_path)\n",
    "\n",
    "# Prétraiter l'image\n",
    "input_image, original_image = preprocess_image(image_path)\n",
    "\n",
    "# Faire l'inférence\n",
    "outputs = sess.run(None, {\"images\": input_image.numpy()})\n",
    "\n",
    "# Post-traiter les résultats\n",
    "boxes, confidences, classes = postprocess(outputs, original_image.shape[:2])\n",
    "\n",
    "# Dessiner les boîtes sur l'image\n",
    "result_image = draw_boxes(original_image.copy(), boxes, confidences, classes)\n",
    "\n",
    "# Afficher le résultat\n",
    "cv2.imshow(\"Résultat\", result_image)\n",
    "cv2.waitKey(0)\n",
    "cv2.destroyAllWindows()\n",
    "\n",
    "# Sauvegarder le résultat\n",
    "cv2.imwrite(\"resultat.jpg\", result_image)\n"
   ]
  }
 ],
 "metadata": {
  "kernelspec": {
   "display_name": ".venv (3.12.3)",
   "language": "python",
   "name": "python3"
  },
  "language_info": {
   "codemirror_mode": {
    "name": "ipython",
    "version": 3
   },
   "file_extension": ".py",
   "mimetype": "text/x-python",
   "name": "python",
   "nbconvert_exporter": "python",
   "pygments_lexer": "ipython3",
   "version": "3.12.3"
  }
 },
 "nbformat": 4,
 "nbformat_minor": 5
}
