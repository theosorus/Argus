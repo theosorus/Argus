{
 "cells": [
  {
   "cell_type": "code",
   "execution_count": null,
   "metadata": {
    "_cell_guid": "b1076dfc-b9ad-4769-8c92-a6c4dae69d19",
    "_uuid": "8f2839f25d086af736a60e9eeb907d3b93b6e0e5",
    "execution": {
     "iopub.execute_input": "2025-09-27T08:08:33.930901Z",
     "iopub.status.busy": "2025-09-27T08:08:33.930418Z",
     "iopub.status.idle": "2025-09-27T08:09:14.841506Z",
     "shell.execute_reply": "2025-09-27T08:09:14.840763Z",
     "shell.execute_reply.started": "2025-09-27T08:08:33.930875Z"
    },
    "trusted": true
   },
   "outputs": [],
   "source": [
    "\n",
    "import os\n",
    "for dirname, _, filenames in os.walk('/kaggle/input'):\n",
    "    for i,filename in enumerate(filenames):\n",
    "        if i % 5000 == 0:\n",
    "            print(i,os.path.join(dirname, filename))\n",
    "\n"
   ]
  },
  {
   "cell_type": "code",
   "execution_count": null,
   "metadata": {
    "execution": {
     "iopub.execute_input": "2025-09-27T08:09:24.016490Z",
     "iopub.status.busy": "2025-09-27T08:09:24.015915Z",
     "iopub.status.idle": "2025-09-27T08:09:24.021959Z",
     "shell.execute_reply": "2025-09-27T08:09:24.021178Z",
     "shell.execute_reply.started": "2025-09-27T08:09:24.016459Z"
    },
    "trusted": true
   },
   "outputs": [],
   "source": [
    "# Paths from your Kaggle dataset\n",
    "CSV_PATH   = \"/kaggle/input/militaryaircraftdetectiondataset/labels_with_split.csv\"\n",
    "IMAGES_DIR = \"/kaggle/input/militaryaircraftdetectiondataset/dataset\"  # folder with all images\n",
    "\n",
    "# Working dir where we'll assemble YOLO data\n",
    "WORK_DIR   = \"/kaggle/working\"\n",
    "YOLO_DIR   = f\"{WORK_DIR}/yolo_data\""
   ]
  },
  {
   "cell_type": "code",
   "execution_count": null,
   "metadata": {
    "execution": {
     "iopub.execute_input": "2025-09-27T08:09:26.502204Z",
     "iopub.status.busy": "2025-09-27T08:09:26.501686Z",
     "iopub.status.idle": "2025-09-27T08:10:35.090611Z",
     "shell.execute_reply": "2025-09-27T08:10:35.089712Z",
     "shell.execute_reply.started": "2025-09-27T08:09:26.502182Z"
    },
    "trusted": true
   },
   "outputs": [],
   "source": [
    "\n",
    "!pip -q install ultralytics"
   ]
  },
  {
   "cell_type": "markdown",
   "metadata": {},
   "source": []
  },
  {
   "cell_type": "code",
   "execution_count": null,
   "metadata": {
    "execution": {
     "iopub.execute_input": "2025-09-27T08:10:46.442330Z",
     "iopub.status.busy": "2025-09-27T08:10:46.441628Z",
     "iopub.status.idle": "2025-09-27T08:10:55.587420Z",
     "shell.execute_reply": "2025-09-27T08:10:55.586650Z",
     "shell.execute_reply.started": "2025-09-27T08:10:46.442294Z"
    },
    "trusted": true
   },
   "outputs": [],
   "source": [
    "import os, shutil, glob\n",
    "from pathlib import Path\n",
    "import pandas as pd\n",
    "import numpy as np\n",
    "from tqdm import tqdm\n",
    "\n",
    "# Create split directories\n",
    "for split in [\"train\", \"val\", \"test\"]:\n",
    "    (Path(YOLO_DIR)/split/\"images\").mkdir(parents=True, exist_ok=True)\n",
    "    (Path(YOLO_DIR)/split/\"labels\").mkdir(parents=True, exist_ok=True)\n",
    "\n",
    "# Read CSV\n",
    "df = pd.read_csv(CSV_PATH)\n",
    "\n",
    "# Normalize column names just in case\n",
    "df.columns = [c.strip().lower() for c in df.columns]\n",
    "\n",
    "# Some datasets use 'valid' -> map to 'val'\n",
    "df[\"split\"] = df[\"split\"].str.lower().replace({\"valid\":\"val\", \"validation\":\"val\"})\n",
    "\n",
    "# Build list of available images (map both stem and filename → full path) to be robust to missing extensions in CSV\n",
    "valid_exts = {\".jpg\", \".jpeg\", \".png\", \".bmp\", \".tif\", \".tiff\", \".webp\"}\n",
    "all_image_paths = []\n",
    "for p in Path(IMAGES_DIR).rglob(\"*\"):\n",
    "    if p.suffix.lower() in valid_exts:\n",
    "        all_image_paths.append(p)\n",
    "\n",
    "by_stem     = {p.stem: p for p in all_image_paths}\n",
    "by_basename = {p.name: p  for p in all_image_paths}\n",
    "\n",
    "def resolve_image_path(name: str):\n",
    "    name = str(name)\n",
    "    # if full basename (with ext) is present\n",
    "    if name in by_basename: \n",
    "        return by_basename[name]\n",
    "    # if only stem is there\n",
    "    stem = Path(name).stem\n",
    "    if stem in by_stem:\n",
    "        return by_stem[stem]\n",
    "    return None\n",
    "\n",
    "df[\"class\"] = \"plane\"\n",
    "# Sanitize class names and build class map (sorted for deterministic ids)\n",
    "df[\"class\"] = df[\"class\"].astype(str).str.strip()\n",
    "class_names = sorted(df[\"class\"].unique().tolist())\n",
    "name_to_id  = {n:i for i,n in enumerate(class_names)}\n",
    "print(\"Classes:\", name_to_id)"
   ]
  },
  {
   "cell_type": "code",
   "execution_count": null,
   "metadata": {
    "execution": {
     "iopub.execute_input": "2025-09-27T08:11:07.317573Z",
     "iopub.status.busy": "2025-09-27T08:11:07.317195Z",
     "iopub.status.idle": "2025-09-27T08:11:20.892435Z",
     "shell.execute_reply": "2025-09-27T08:11:20.891676Z",
     "shell.execute_reply.started": "2025-09-27T08:11:07.317544Z"
    },
    "trusted": true
   },
   "outputs": [],
   "source": [
    "# Clip boxes helper\n",
    "def xyxy_to_yolo(xmin, ymin, xmax, ymax, W, H):\n",
    "    # clip to image bounds\n",
    "    xmin = np.clip(xmin, 0, W-1)\n",
    "    ymin = np.clip(ymin, 0, H-1)\n",
    "    xmax = np.clip(xmax, 0, W-1)\n",
    "    ymax = np.clip(ymax, 0, H-1)\n",
    "    bw = max(0.0, xmax - xmin)\n",
    "    bh = max(0.0, ymax - ymin)\n",
    "    if bw <= 0 or bh <= 0:\n",
    "        return None\n",
    "    x_center = (xmin + xmax) / 2.0 / W\n",
    "    y_center = (ymin + ymax) / 2.0 / H\n",
    "    bw /= W\n",
    "    bh /= H\n",
    "    return x_center, y_center, bw, bh\n",
    "\n",
    "# Group rows per (split, filename)\n",
    "bad, written = 0, 0\n",
    "for (split, fname), g in tqdm(df.groupby([\"split\", \"filename\"]), total=df.groupby([\"split\", \"filename\"]).ngroups):\n",
    "    img_path = resolve_image_path(fname)\n",
    "    if img_path is None:\n",
    "        bad += 1\n",
    "        continue\n",
    "\n",
    "    # Label file path\n",
    "    stem = img_path.stem\n",
    "    lbl_fp = Path(YOLO_DIR)/split/\"labels\"/f\"{stem}.txt\"\n",
    "\n",
    "    # Build label lines\n",
    "    lines = []\n",
    "    W = float(g.iloc[0][\"width\"])\n",
    "    H = float(g.iloc[0][\"height\"])\n",
    "    for _, r in g.iterrows():\n",
    "        cid = name_to_id[str(r[\"class\"])]\n",
    "        xywh = xyxy_to_yolo(float(r[\"xmin\"]), float(r[\"ymin\"]), float(r[\"xmax\"]), float(r[\"ymax\"]), W, H)\n",
    "        if xywh is None:\n",
    "            continue\n",
    "        lines.append(f\"{cid} \" + \" \".join(f\"{v:.6f}\" for v in xywh))\n",
    "\n",
    "    if not lines:\n",
    "        # Skip images that ended up without any valid boxes\n",
    "        continue\n",
    "\n",
    "    # Write label file\n",
    "    with open(lbl_fp, \"w\") as f:\n",
    "        f.write(\"\\n\".join(lines))\n",
    "    written += 1\n",
    "\n",
    "    # Copy/link image to split/images\n",
    "    out_img = Path(YOLO_DIR)/split/\"images\"/img_path.name\n",
    "    try:\n",
    "        os.link(img_path, out_img)     # hard link (fast, saves space)\n",
    "    except Exception:\n",
    "        try:\n",
    "            os.symlink(img_path, out_img)  # symlink fallback\n",
    "        except Exception:\n",
    "            shutil.copy2(img_path, out_img)  # last resort: copy\n",
    "\n",
    "print(f\"Images with labels written: {written}, missing/failed: {bad}\")"
   ]
  },
  {
   "cell_type": "code",
   "execution_count": null,
   "metadata": {
    "execution": {
     "iopub.execute_input": "2025-09-27T08:11:25.863368Z",
     "iopub.status.busy": "2025-09-27T08:11:25.863046Z",
     "iopub.status.idle": "2025-09-27T08:11:25.870135Z",
     "shell.execute_reply": "2025-09-27T08:11:25.869591Z",
     "shell.execute_reply.started": "2025-09-27T08:11:25.863344Z"
    },
    "trusted": true
   },
   "outputs": [],
   "source": [
    "yaml_text = f\"\"\"# Auto-generated for YOLOv8\n",
    "path: {Path(YOLO_DIR).resolve()}    # dataset root\n",
    "train: train/images\n",
    "val:   val/images\n",
    "test:  test/images\n",
    "\n",
    "nc: {len(class_names)}\n",
    "names: {class_names}\n",
    "\"\"\"\n",
    "\n",
    "with open(Path(YOLO_DIR)/\"data.yaml\", \"w\") as f:\n",
    "    f.write(yaml_text)\n",
    "\n",
    "print(open(Path(YOLO_DIR)/\"data.yaml\").read())"
   ]
  },
  {
   "cell_type": "code",
   "execution_count": null,
   "metadata": {
    "execution": {
     "iopub.execute_input": "2025-09-27T08:11:31.373988Z",
     "iopub.status.busy": "2025-09-27T08:11:31.373404Z",
     "iopub.status.idle": "2025-09-27T08:42:09.320124Z",
     "shell.execute_reply": "2025-09-27T08:42:09.319304Z",
     "shell.execute_reply.started": "2025-09-27T08:11:31.373965Z"
    },
    "trusted": true
   },
   "outputs": [],
   "source": [
    "from ultralytics import YOLO\n",
    "\n",
    "# Choose a model size: yolov8n.pt / yolov8s.pt / yolov8m.pt / yolov8l.pt / yolov8x.pt\n",
    "model = YOLO(\"yolov8s.pt\")   # pretrained COCO weights\n",
    "\n",
    "results = model.train(\n",
    "    data=str(Path(YOLO_DIR)/\"data.yaml\"),\n",
    "    imgsz=640,\n",
    "    epochs=5,\n",
    "    batch=-1,          # auto batch\n",
    "    device=0,\n",
    "    workers=8,\n",
    "    project=\"runs\",\n",
    "    name=\"yolov8n-military\",\n",
    "    cos_lr=True,\n",
    "    patience=30,\n",
    "    close_mosaic=10,   # stabilize late training\n",
    ")\n"
   ]
  },
  {
   "cell_type": "code",
   "execution_count": null,
   "metadata": {
    "execution": {
     "iopub.execute_input": "2025-09-27T08:51:17.636579Z",
     "iopub.status.busy": "2025-09-27T08:51:17.635396Z",
     "iopub.status.idle": "2025-09-27T08:51:19.992051Z",
     "shell.execute_reply": "2025-09-27T08:51:19.991292Z",
     "shell.execute_reply.started": "2025-09-27T08:51:17.636540Z"
    },
    "trusted": true
   },
   "outputs": [],
   "source": [
    "dir_to_zip = \"/kaggle/working/runs\"\n",
    "import shutil\n",
    "shutil.make_archive(\"out\", 'zip', dir_to_zip)"
   ]
  }
 ],
 "metadata": {
  "kaggle": {
   "accelerator": "gpu",
   "dataSources": [
    {
     "datasetId": 821893,
     "sourceId": 13127594,
     "sourceType": "datasetVersion"
    }
   ],
   "dockerImageVersionId": 31090,
   "isGpuEnabled": true,
   "isInternetEnabled": true,
   "language": "python",
   "sourceType": "notebook"
  },
  "kernelspec": {
   "display_name": "Python 3",
   "language": "python",
   "name": "python3"
  },
  "language_info": {
   "codemirror_mode": {
    "name": "ipython",
    "version": 3
   },
   "file_extension": ".py",
   "mimetype": "text/x-python",
   "name": "python",
   "nbconvert_exporter": "python",
   "pygments_lexer": "ipython3",
   "version": "3.11.13"
  }
 },
 "nbformat": 4,
 "nbformat_minor": 4
}
